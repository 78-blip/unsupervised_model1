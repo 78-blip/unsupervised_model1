{
  "nbformat": 4,
  "nbformat_minor": 0,
  "metadata": {
    "colab": {
      "private_outputs": true,
      "provenance": [],
      "collapsed_sections": [
        "vncDsAP0Gaoa",
        "FJNUwmbgGyua",
        "w6K7xa23Elo4",
        "yQaldy8SH6Dl",
        "PH-0ReGfmX4f",
        "mDgbUHAGgjLW",
        "O_i_v8NEhb9l",
        "HhfV-JJviCcP",
        "Y3lxredqlCYt",
        "3RnN4peoiCZX",
        "x71ZqKXriCWQ",
        "7hBIi_osiCS2",
        "JlHwYmJAmNHm",
        "35m5QtbWiB9F",
        "PoPl-ycgm1ru",
        "H0kj-8xxnORC",
        "nA9Y7ga8ng1Z",
        "PBTbrJXOngz2",
        "u3PMJOP6ngxN",
        "dauF4eBmngu3",
        "bKJF3rekwFvQ",
        "MSa1f5Uengrz",
        "GF8Ens_Soomf",
        "0wOQAZs5pc--",
        "K5QZ13OEpz2H",
        "lQ7QKXXCp7Bj",
        "448CDAPjqfQr",
        "KSlN3yHqYklG",
        "t6dVpIINYklI",
        "ijmpgYnKYklI",
        "-JiQyfWJYklI",
        "EM7whBJCYoAo",
        "fge-S5ZAYoAp",
        "85gYPyotYoAp",
        "RoGjAbkUYoAp",
        "4Of9eVA-YrdM",
        "iky9q4vBYrdO",
        "F6T5p64dYrdO",
        "y-Ehk30pYrdP",
        "bamQiAODYuh1",
        "QHF8YVU7Yuh3",
        "GwzvFGzlYuh3",
        "qYpmQ266Yuh3",
        "OH-pJp9IphqM",
        "bbFf2-_FphqN",
        "_ouA3fa0phqN",
        "Seke61FWphqN",
        "PIIx-8_IphqN",
        "t27r6nlMphqO",
        "r2jJGEOYphqO",
        "b0JNsNcRphqO",
        "BZR9WyysphqO",
        "jj7wYXLtphqO",
        "eZrbJ2SmphqO",
        "rFu4xreNphqO",
        "YJ55k-q6phqO",
        "gCFgpxoyphqP",
        "OVtJsKN_phqQ",
        "lssrdh5qphqQ",
        "U2RJ9gkRphqQ",
        "1M8mcRywphqQ",
        "tgIPom80phqQ",
        "JMzcOPDDphqR",
        "x-EpHcCOp1ci",
        "X_VqEhTip1ck",
        "8zGJKyg5p1ck",
        "PVzmfK_Ep1ck",
        "n3dbpmDWp1ck",
        "ylSl6qgtp1ck",
        "ZWILFDl5p1ck",
        "M7G43BXep1ck",
        "Ag9LCva-p1cl",
        "E6MkPsBcp1cl",
        "2cELzS2fp1cl",
        "3MPXvC8up1cl",
        "NC_X3p0fY2L0",
        "UV0SzAkaZNRQ",
        "YPEH6qLeZNRQ",
        "q29F0dvdveiT",
        "EXh0U9oCveiU",
        "22aHeOlLveiV",
        "JcMwzZxoAimU",
        "8G2x9gOozGDZ",
        "gCX9965dhzqZ",
        "gIfDvo9L0UH2"
      ],
      "include_colab_link": true
    },
    "kernelspec": {
      "name": "python3",
      "display_name": "Python 3"
    },
    "language_info": {
      "name": "python"
    }
  },
  "cells": [
    {
      "cell_type": "markdown",
      "metadata": {
        "id": "view-in-github",
        "colab_type": "text"
      },
      "source": [
        "<a href=\"https://colab.research.google.com/github/78-blip/unsupervised_model1/blob/main1/eda_model.ipynb\" target=\"_parent\"><img src=\"https://colab.research.google.com/assets/colab-badge.svg\" alt=\"Open In Colab\"/></a>"
      ]
    },
    {
      "cell_type": "markdown",
      "source": [
        "# **Project Name**    -\n",
        "\n"
      ],
      "metadata": {
        "id": "vncDsAP0Gaoa"
      }
    },
    {
      "cell_type": "markdown",
      "source": [
        "##### **Project Type**    - Unsupervised\n",
        "##### **Contribution**    - Individual\n",
        "##### **name**            - MOHINI SHARMA\n",
        "\n",
        "\n"
      ],
      "metadata": {
        "id": "beRrZCGUAJYm"
      }
    },
    {
      "cell_type": "markdown",
      "source": [
        "# **Project Summary -**"
      ],
      "metadata": {
        "id": "FJNUwmbgGyua"
      }
    },
    {
      "cell_type": "markdown",
      "source": [
        "Write the summary here within 500-600 words.\n",
        "\n",
        "Here i am given a dataset related to online retail customer segmentation in which i have to form the clusters of same kind of customers by applying my algorithms and prepare a good model which does this well ,my columns in he dataset are:InvoiceNo', 'StockCode', 'Description', 'Quantity', 'InvoiceDate',\n",
        "       'UnitPrice', 'CustomerID', 'Country' etc,\n",
        "what i will be doing in the dataset is:\n",
        "cleaning my data ,makimg analysis omn columns finding correlation.\n",
        "\n",
        "after that i will be creating clusters on the basis of proximity in variables value.\n",
        "\n",
        "\n",
        "\n",
        "Here by ,i will bw working on the data set related to wholesale purchase and its analysis in various variables upon which ,a useful conclusion will be drawn ⁉\n",
        "\n",
        ":using graphs and charts ,useful indights will be made\n",
        "\n",
        "\n",
        ":the base of my project\n",
        " will be to use the acquired knowledge\n",
        " of dataset and fetch workings and swot analysis ,\n",
        " and make plans for same.\n",
        "\n",
        ": the project is to direct my efforts to make a gist of  important parameters.\n",
        "\n",
        ":i will bw adjusting the data to need\n",
        "\n",
        ":data will be trandformed into structured information to use,\n",
        "\n",
        "\n",
        "\n",
        "\n",
        "\n",
        "\n",
        "---\n",
        "\n"
      ],
      "metadata": {
        "id": "F6v_1wHtG2nS"
      }
    },
    {
      "cell_type": "markdown",
      "source": [
        "# **GitHub Link -**"
      ],
      "metadata": {
        "id": "w6K7xa23Elo4"
      }
    },
    {
      "cell_type": "markdown",
      "source": [
        "Provide your GitHub Link here."
      ],
      "metadata": {
        "id": "h1o69JH3Eqqn"
      }
    },
    {
      "cell_type": "markdown",
      "source": [
        "# **Problem Statement**\n"
      ],
      "metadata": {
        "id": "yQaldy8SH6Dl"
      }
    },
    {
      "cell_type": "markdown",
      "source": [
        "**Write Problem Statement Here.**\n",
        "\n",
        "In this project, your task is to identify major customer segments on a transnational data set which contains all the transactions occurring between 01/12/2010 and 09/12/2011 for a UK-based and registered non-store online retail.The company mainly sells unique all-occasion gifts. Many customers of the company are wholesalers.\n",
        "Data Description"
      ],
      "metadata": {
        "id": "DpeJGUA3kjGy"
      }
    },
    {
      "cell_type": "markdown",
      "source": [
        "#### **Define Your Business Objective?**"
      ],
      "metadata": {
        "id": "PH-0ReGfmX4f"
      }
    },
    {
      "cell_type": "markdown",
      "source": [
        "Answer Here.\n",
        "\n",
        "my business objective here is:\n",
        "\n",
        "My business objective is to draw useful insights from the given dataset in order to make better decisions,these will include the following steps which are to take place throughout my project:\n",
        "\n",
        ":to draw useful charts and graphs which will itself show and visualise the important variable.\n",
        "\n",
        ":to filter useful data and make resuklt out of it\n",
        "\n",
        ":to make plans and policies out of data and working on it further.\n",
        "\n",
        " ; to make my algorithm work on the dara and make customer segmentation"
      ],
      "metadata": {
        "id": "PhDvGCAqmjP1"
      }
    },
    {
      "cell_type": "markdown",
      "source": [
        "# **General Guidelines** : -  "
      ],
      "metadata": {
        "id": "mDgbUHAGgjLW"
      }
    },
    {
      "cell_type": "markdown",
      "source": [
        "1.   Well-structured, formatted, and commented code is required.\n",
        "2.   Exception Handling, Production Grade Code & Deployment Ready Code will be a plus. Those students will be awarded some additional credits.\n",
        "     \n",
        "     The additional credits will have advantages over other students during Star Student selection.\n",
        "       \n",
        "             [ Note: - Deployment Ready Code is defined as, the whole .ipynb notebook should be executable in one go\n",
        "                       without a single error logged. ]\n",
        "\n",
        "3.   Each and every logic should have proper comments.\n",
        "4. You may add as many number of charts you want. Make Sure for each and every chart the following format should be answered.\n",
        "        \n",
        "\n",
        "```\n",
        "# Chart visualization code\n",
        "```\n",
        "            \n",
        "\n",
        "*   Why did you pick the specific chart?\n",
        "*   What is/are the insight(s) found from the chart?\n",
        "* Will the gained insights help creating a positive business impact?\n",
        "Are there any insights that lead to negative growth? Justify with specific reason.\n",
        "\n",
        "5. You have to create at least 20 logical & meaningful charts having important insights.\n",
        "\n",
        "\n",
        "[ Hints : - Do the Vizualization in  a structured way while following \"UBM\" Rule.\n",
        "\n",
        "U - Univariate Analysis,\n",
        "\n",
        "B - Bivariate Analysis (Numerical - Categorical, Numerical - Numerical, Categorical - Categorical)\n",
        "\n",
        "M - Multivariate Analysis\n",
        " ]\n",
        "\n",
        "\n",
        "\n"
      ],
      "metadata": {
        "id": "ZrxVaUj-hHfC"
      }
    },
    {
      "cell_type": "markdown",
      "source": [
        "# ***Let's Begin !***"
      ],
      "metadata": {
        "id": "O_i_v8NEhb9l"
      }
    },
    {
      "cell_type": "markdown",
      "source": [
        "## ***1. Know Your Data***"
      ],
      "metadata": {
        "id": "HhfV-JJviCcP"
      }
    },
    {
      "cell_type": "markdown",
      "source": [
        "### Import Libraries"
      ],
      "metadata": {
        "id": "Y3lxredqlCYt"
      }
    },
    {
      "cell_type": "code",
      "source": [
        "# Import Libraries\n",
        "import pandas as pd\n",
        "import numpy as np\n",
        "import seaborn as sns\n",
        "import matplotlib.pyplot as plt\n",
        "%matplotlib inline\n",
        "from datetime import datetime\n",
        "import warnings\n",
        "from pylab import rcParams\n",
        "import seaborn as sns; sns.set()\n",
        "warnings.filterwarnings('ignore')"
      ],
      "metadata": {
        "id": "M8Vqi-pPk-HR"
      },
      "execution_count": null,
      "outputs": []
    },
    {
      "cell_type": "markdown",
      "source": [
        "### Dataset Loading"
      ],
      "metadata": {
        "id": "3RnN4peoiCZX"
      }
    },
    {
      "cell_type": "code",
      "source": [
        "from google.colab import drive\n",
        "drive.mount('/content/drive')"
      ],
      "metadata": {
        "id": "JkcS3kDVsC8t"
      },
      "execution_count": null,
      "outputs": []
    },
    {
      "cell_type": "code",
      "source": [
        "#load the datasdet\n",
        "mydata=pd.read_excel('/content/drive/MyDrive/Copy of Online Retail.xlsx')\n",
        "mydata.head()"
      ],
      "metadata": {
        "id": "k4814KsQtDyK"
      },
      "execution_count": null,
      "outputs": []
    },
    {
      "cell_type": "markdown",
      "source": [
        "### Dataset First View"
      ],
      "metadata": {
        "id": "x71ZqKXriCWQ"
      }
    },
    {
      "cell_type": "code",
      "source": [
        "#dataset first view\n",
        "mydata.head()\n",
        "mydata.tail()"
      ],
      "metadata": {
        "id": "LWNFOSvLl09H"
      },
      "execution_count": null,
      "outputs": []
    },
    {
      "cell_type": "markdown",
      "source": [
        "### Dataset Rows & Columns count"
      ],
      "metadata": {
        "id": "7hBIi_osiCS2"
      }
    },
    {
      "cell_type": "code",
      "source": [
        "# Dataset Rows & Columns count\n",
        "mydata.shape"
      ],
      "metadata": {
        "id": "Kllu7SJgmLij"
      },
      "execution_count": null,
      "outputs": []
    },
    {
      "cell_type": "markdown",
      "source": [
        "### Dataset Information"
      ],
      "metadata": {
        "id": "JlHwYmJAmNHm"
      }
    },
    {
      "cell_type": "code",
      "source": [
        "# Dataset Info\n",
        "mydata.info()"
      ],
      "metadata": {
        "id": "e9hRXRi6meOf"
      },
      "execution_count": null,
      "outputs": []
    },
    {
      "cell_type": "markdown",
      "source": [
        "#### Duplicate Values"
      ],
      "metadata": {
        "id": "35m5QtbWiB9F"
      }
    },
    {
      "cell_type": "code",
      "source": [
        "# Dataset Duplicate Value Count\n",
        "pd.DataFrame.duplicated(mydata).value_counts()"
      ],
      "metadata": {
        "id": "1sLdpKYkmox0"
      },
      "execution_count": null,
      "outputs": []
    },
    {
      "cell_type": "markdown",
      "source": [
        "#### Missing Values/Null Values"
      ],
      "metadata": {
        "id": "PoPl-ycgm1ru"
      }
    },
    {
      "cell_type": "code",
      "source": [
        "# Missing Values/Null Values Count\n",
        "mydata.isna().sum()\n",
        "\n"
      ],
      "metadata": {
        "id": "GgHWkxvamxVg"
      },
      "execution_count": null,
      "outputs": []
    },
    {
      "cell_type": "code",
      "source": [
        "# Visualizing the missing values\n",
        "mydata.isna().value_counts()"
      ],
      "metadata": {
        "id": "3q5wnI3om9sJ"
      },
      "execution_count": null,
      "outputs": []
    },
    {
      "cell_type": "markdown",
      "source": [
        "### What did you know about your dataset?"
      ],
      "metadata": {
        "id": "H0kj-8xxnORC"
      }
    },
    {
      "cell_type": "markdown",
      "source": [
        "Answer Here"
      ],
      "metadata": {
        "id": "gfoNAAC-nUe_"
      }
    },
    {
      "cell_type": "markdown",
      "source": [
        "## ***2. Understanding Your Variables***"
      ],
      "metadata": {
        "id": "nA9Y7ga8ng1Z"
      }
    },
    {
      "cell_type": "code",
      "source": [
        "# Dataset Columns\n",
        "\n",
        "mydata.columns"
      ],
      "metadata": {
        "id": "j7xfkqrt5Ag5"
      },
      "execution_count": null,
      "outputs": []
    },
    {
      "cell_type": "code",
      "source": [
        "# Dataset Describe\n",
        "\n",
        "mydata.describe()"
      ],
      "metadata": {
        "id": "DnOaZdaE5Q5t"
      },
      "execution_count": null,
      "outputs": []
    },
    {
      "cell_type": "markdown",
      "source": [
        "### Variables Description\n"
      ],
      "metadata": {
        "id": "PBTbrJXOngz2"
      }
    },
    {
      "cell_type": "markdown",
      "source": [
        "Answer Here\n",
        "\n",
        "\n",
        "'InvoiceNo'-it gives us the invoice number for every unique transaction.\n",
        "\n",
        "\n",
        "'stockCode'-it gives the code number for the type of product.\n",
        "\n",
        "\n",
        "'Description'-it describes more about product in textual language.\n",
        "\n",
        "\n",
        "'Quantity'-it shows us the quantity of particular product purchased\n",
        "\n",
        "\n",
        "'InvoiceDate'-it shows date on which transaction was done\n",
        "\n",
        "\n",
        "'UnitPrice'-it gives the price per unit of particular prodduct.\n",
        "\n",
        "\n",
        "'CustomerID'-it is given to uniquely identify every customer\n",
        "\n",
        "\n",
        "'Country'-it gives us the name of country to which every customer belongs"
      ],
      "metadata": {
        "id": "aJV4KIxSnxay"
      }
    },
    {
      "cell_type": "markdown",
      "source": [
        "### Check Unique Values for each variable."
      ],
      "metadata": {
        "id": "u3PMJOP6ngxN"
      }
    },
    {
      "cell_type": "code",
      "source": [
        "# Check Unique Values for each variable.\n"
      ],
      "metadata": {
        "id": "zms12Yq5n-jE"
      },
      "execution_count": null,
      "outputs": []
    },
    {
      "cell_type": "markdown",
      "source": [
        "## 3. ***Data Wrangling***"
      ],
      "metadata": {
        "id": "dauF4eBmngu3"
      }
    },
    {
      "cell_type": "markdown",
      "source": [
        "### Data Wrangling Code"
      ],
      "metadata": {
        "id": "bKJF3rekwFvQ"
      }
    },
    {
      "cell_type": "code",
      "source": [
        "mydata.dropna(inplace=True)\n",
        "\n",
        "mydata.info()"
      ],
      "metadata": {
        "id": "nc-624VF30BE"
      },
      "execution_count": null,
      "outputs": []
    },
    {
      "cell_type": "code",
      "source": [
        "# Write your code to make your dataset analysis ready.\n",
        "mydata['unique_id']=range(1,406830)\n",
        "mydata.head()"
      ],
      "metadata": {
        "id": "R8T9xhhnboEk"
      },
      "execution_count": null,
      "outputs": []
    },
    {
      "cell_type": "markdown",
      "source": [
        "### What all manipulations have you done and insights you found?"
      ],
      "metadata": {
        "id": "MSa1f5Uengrz"
      }
    },
    {
      "cell_type": "markdown",
      "source": [
        "Answer Here.\n",
        "\n",
        "in my dataset ,there was no any null value ,so we didnt need to drop any and everything looked fine ,except the unique column to to uniquely show every row ⁉\n",
        "\n",
        "it will make counts of particular value easy and conclusions more accurate.\n",
        "\n",
        "also i have dropped all null values containing rows ,so that my modellimg becomes easy"
      ],
      "metadata": {
        "id": "LbyXE7I1olp8"
      }
    },
    {
      "cell_type": "markdown",
      "source": [
        "## ***4. Data Vizualization, Storytelling & Experimenting with charts : Understand the relationships between variables***"
      ],
      "metadata": {
        "id": "GF8Ens_Soomf"
      }
    },
    {
      "cell_type": "markdown",
      "source": [
        "#### Chart - 1"
      ],
      "metadata": {
        "id": "0wOQAZs5pc--"
      }
    },
    {
      "cell_type": "code",
      "source": [
        "countries_and_contribution=mydata.groupby('Country')['unique_id'].count().sort_values()\n",
        "countries_and_contribution"
      ],
      "metadata": {
        "id": "FE9M61RGg_-t"
      },
      "execution_count": null,
      "outputs": []
    },
    {
      "cell_type": "code",
      "source": [
        "# Chart - 1 visualization code\n",
        "\n",
        "most_frequent_countries=countries_and_contribution.tail(6)\n",
        "\n",
        "plt.plot(most_frequent_countries)\n",
        "\n"
      ],
      "metadata": {
        "id": "7v_ESjsspbW7"
      },
      "execution_count": null,
      "outputs": []
    },
    {
      "cell_type": "code",
      "source": [
        "least_frequent_countries=countries_and_contribution.head(6)\n",
        "plt.plot(least_frequent_countries)"
      ],
      "metadata": {
        "id": "o6Xgw5YMfU2r"
      },
      "execution_count": null,
      "outputs": []
    },
    {
      "cell_type": "markdown",
      "source": [
        "##### 1. Why did you pick the specific chart?\n",
        "\n",
        "ANSWER:\n",
        "\n",
        "I picked up the particular line chart for given below various aspects:\n",
        "\n",
        "1.in order to clearly have the countries and their contribution.\n",
        "\n",
        "2. in order to draw comparison easily and understand patterns.\n",
        "\n",
        "3. so as to draw meaningful insights by an eye view\n",
        "\n",
        "4. to make more understanding of trends.\n",
        "\n",
        "5. so as to make data more concluded and explici"
      ],
      "metadata": {
        "id": "K5QZ13OEpz2H"
      }
    },
    {
      "cell_type": "markdown",
      "source": [
        "##### 2. What is/are the insight(s) found from the chart?\n",
        "\n"
      ],
      "metadata": {
        "id": "lQ7QKXXCp7Bj"
      }
    },
    {
      "cell_type": "markdown",
      "source": [
        "Answer Here\n",
        "\n",
        "Insights found from the above charts are as follows:\n",
        "1. the highest times appearance is for united kingdom which is above 3,50,000.\n",
        "\n",
        "2. the second highest is for Germany which is approx 10,000.\n",
        "\n",
        "3.the third highest appearance is france which is approx 8,500.\n",
        "\n",
        "4.Here we can see that\n",
        "Switzerland               1877\n",
        "Belgium                   2069\n",
        "Netherlands               2371\n",
        "Spain                     2533\n",
        "EIRE                      7485\n",
        "France                    8491\n",
        "Germany                   9495\n",
        "United Kingdom          361878\n",
        "\n",
        "these countries contribute good towards business.\n",
        "\n",
        "whereas:\n",
        "\n",
        "Saudi Arabia                10\n",
        "Bahrain                     17\n",
        "Czech Republic              30\n",
        "Brazil                      32\n",
        "Lithuania                   35\n",
        "Lebanon                     45"
      ],
      "metadata": {
        "id": "C_j1G7yiqdRP"
      }
    },
    {
      "cell_type": "markdown",
      "source": [
        "##### 3. Will the gained insights help creating a positive business impact?\n",
        "Are there any insights that lead to negative growth? Justify with specific reason."
      ],
      "metadata": {
        "id": "448CDAPjqfQr"
      }
    },
    {
      "cell_type": "markdown",
      "source": [
        "Answer Here\n",
        "\n",
        "yes,the insights found from the chart are as followss:\n",
        "\n",
        ":: there could be certain reasons why the contribution is different from different countries.\n",
        "\n",
        ":: the reasons might include foreign relations ,population,easiness in transaction and many more.\n",
        "\n",
        ":: we should try to know the reasons and prevailing conditions and try to fix them so as to increase the contribution of those countries as well."
      ],
      "metadata": {
        "id": "3cspy4FjqxJW"
      }
    },
    {
      "cell_type": "markdown",
      "source": [
        "#### Chart - 2"
      ],
      "metadata": {
        "id": "KSlN3yHqYklG"
      }
    },
    {
      "cell_type": "code",
      "source": [
        "# Chart - 2 visualization code\n",
        "\n",
        "stockname_and_app=mydata.groupby('Description')['unique_id'].count().reset_index()\n",
        "description_and_count=stockname_and_app.sort_values(by='unique_id')\n",
        "description_and_count"
      ],
      "metadata": {
        "id": "R4YgtaqtYklH"
      },
      "execution_count": null,
      "outputs": []
    },
    {
      "cell_type": "code",
      "source": [
        "least_frequent_stock=description_and_count.head(10)\n",
        "sns.barplot(x='Description',y='unique_id',data=least_frequent_stock)"
      ],
      "metadata": {
        "id": "pChmvuk1kNma"
      },
      "execution_count": null,
      "outputs": []
    },
    {
      "cell_type": "code",
      "source": [
        "most_frequent_stock=description_and_count.tail(10)\n",
        "sns.barplot(x='Description',y='unique_id',data=most_frequent_stock)"
      ],
      "metadata": {
        "id": "Rrw6v1eLkOrr"
      },
      "execution_count": null,
      "outputs": []
    },
    {
      "cell_type": "markdown",
      "source": [
        "##### 1. Why did you pick the specific chart?"
      ],
      "metadata": {
        "id": "t6dVpIINYklI"
      }
    },
    {
      "cell_type": "markdown",
      "source": [
        "Answer Here.\n",
        "\n",
        "\n",
        "ANSWER:\n",
        "\n",
        "I picked up the particular bar chart for given below various aspects:\n",
        "\n",
        "1.in order to clearly have the products name  and their contribution.\n",
        "\n",
        "2. in order to draw comparison easily and understand patterns.\n",
        "\n",
        "3. so as to draw meaningful insights by an eye view\n",
        "\n",
        "4. to make more understanding of trends.\n",
        "\n",
        "5. so as to make data more concluded and explicit"
      ],
      "metadata": {
        "id": "5aaW0BYyYklI"
      }
    },
    {
      "cell_type": "markdown",
      "source": [
        "##### 2. What is/are the insight(s) found from the chart?"
      ],
      "metadata": {
        "id": "ijmpgYnKYklI"
      }
    },
    {
      "cell_type": "markdown",
      "source": [
        "Answer Here\n",
        "\n",
        "the insights found from the above charts are as follows ⁉\n",
        "\n",
        ":the least common products are the purchased only once consists:\n",
        "\n",
        "EASTER CRAFT IVY WREATH WITH CHICK\t1\n",
        "2092\tMISELTOE HEART WREATH CREAM\t1\n",
        "2764\tRED ROSE AND LACE C/COVER\t1\n",
        "2288\tPAINTED HEART WREATH WITH BELL\t1\n",
        "3402\tSWEETHEART KEY CABINET\n",
        "\n",
        ":whereas the most purchased products along with their frequency are:\n",
        "\n",
        "PARTY BUNTING\t1416\n",
        "217\tASSORTED COLOUR BIRD ORNAMENT\t1418\n",
        "1771\tJUMBO BAG RED RETROSPOT\t1662\n",
        "2780\tREGENCY CAKESTAND 3 TIER\t1905\n",
        "3716\tWHITE HANGING HEART T-LIGHT HOLDER\t2070\n"
      ],
      "metadata": {
        "id": "PSx9atu2YklI"
      }
    },
    {
      "cell_type": "markdown",
      "source": [
        "##### 3. Will the gained insights help creating a positive business impact?\n",
        "Are there any insights that lead to negative growth? Justify with specific reason."
      ],
      "metadata": {
        "id": "-JiQyfWJYklI"
      }
    },
    {
      "cell_type": "markdown",
      "source": [
        "Answer Here\n",
        "\n",
        "here we have found out that few products are highly is demand so we should keep their availabity with us all the timne and most investment should be done in tgem.\n",
        "\n",
        "::we should also make awareness about the least frequent items ,so that customers or wholesalers should know morw about them and high demand should be created"
      ],
      "metadata": {
        "id": "BcBbebzrYklV"
      }
    },
    {
      "cell_type": "markdown",
      "source": [
        "#### Chart - 3"
      ],
      "metadata": {
        "id": "EM7whBJCYoAo"
      }
    },
    {
      "cell_type": "code",
      "source": [
        "# Chart - 3 visualization code\n",
        "productname_and_price=mydata.groupby('Description')['UnitPrice'].sum().sort_values()\n",
        "productname_and_price\n",
        "\n"
      ],
      "metadata": {
        "id": "t6GMdE67YoAp"
      },
      "execution_count": null,
      "outputs": []
    },
    {
      "cell_type": "code",
      "source": [
        "highest_price=productname_and_price.tail(10)\n",
        "plt.plot(highest_price)"
      ],
      "metadata": {
        "id": "kVYtwkhoqYap"
      },
      "execution_count": null,
      "outputs": []
    },
    {
      "cell_type": "code",
      "source": [
        "lowest_price=productname_and_price.head(10)\n",
        "plt.plot(lowest_price)"
      ],
      "metadata": {
        "id": "82D1af1QqZel"
      },
      "execution_count": null,
      "outputs": []
    },
    {
      "cell_type": "markdown",
      "source": [
        "##### 1. Why did you pick the specific chart?"
      ],
      "metadata": {
        "id": "fge-S5ZAYoAp"
      }
    },
    {
      "cell_type": "markdown",
      "source": [
        "Answer Here.\n",
        "\n",
        "\n",
        "ANSWER:\n",
        "\n",
        "I picked up the particular line chart for given below various aspects:\n",
        "\n",
        "1.in order to clearly have the products price and their contribution.\n",
        "\n",
        "2. in order to draw comparison easily and understand patterns.\n",
        "\n",
        "3. so as to draw meaningful insights by an eye view\n",
        "\n",
        "4. to make more understanding of trends.\n",
        "\n",
        "5. so as to make data more concluded and explici"
      ],
      "metadata": {
        "id": "5dBItgRVYoAp"
      }
    },
    {
      "cell_type": "markdown",
      "source": [
        "##### 2. What is/are the insight(s) found from the chart?"
      ],
      "metadata": {
        "id": "85gYPyotYoAp"
      }
    },
    {
      "cell_type": "markdown",
      "source": [
        "Answer Here\n",
        "\n",
        "the insights i have found from the above charts are as follows:\n",
        "\n",
        ";: the products that contributed leaST  cash inflow are as follows:\n",
        "\n",
        "Description\n",
        "PADS TO MATCH ALL CUSHIONS               0.003\n",
        "HAPPY BIRTHDAY CARD TEDDY/CAKE           0.190\n",
        "PINK FLUFFY CHRISTMAS DECORATION         0.190\n",
        "CAT WITH SUNGLASSES BLANK CARD           0.190\n",
        "POP ART PUSH DOWN RUBBER                 0.240\n",
        "\n",
        "where as the most cash and profit is because of::\n",
        "\n",
        "\n",
        "\n",
        "CRUK Commission                       7933.430\n",
        "DOTCOM POSTAGE                       11906.360\n",
        "REGENCY CAKESTAND 3 TIER             23678.050\n",
        "POSTAGE                              45314.680\n",
        "Manual                              155507.920b"
      ],
      "metadata": {
        "id": "4jstXR6OYoAp"
      }
    },
    {
      "cell_type": "markdown",
      "source": [
        "##### 3. Will the gained insights help creating a positive business impact?\n",
        "Are there any insights that lead to negative growth? Justify with specific reason."
      ],
      "metadata": {
        "id": "RoGjAbkUYoAp"
      }
    },
    {
      "cell_type": "markdown",
      "source": [
        "Answer Here\n",
        "\n",
        "here we have found out that few products are highly is demand so we should keep their availabity with us all the timne and most investment should be done in tgem.\n",
        "\n",
        "::we should also make awareness about the least frequent items ,so that customers or wholesalers should know morw about them and high demand should be created\n",
        "\n",
        "price is also a factor here is determining the cash inflow of the items"
      ],
      "metadata": {
        "id": "zfJ8IqMcYoAp"
      }
    },
    {
      "cell_type": "markdown",
      "source": [
        "# correlation heatmap"
      ],
      "metadata": {
        "id": "aBIziME1s24X"
      }
    },
    {
      "cell_type": "code",
      "source": [
        "#showimng correlation between all variables\n",
        "\n",
        "plt.figure(figsize=(10,10))\n",
        "correlation=mydata.corr()\n",
        "sns.heatmap(abs(correlation))"
      ],
      "metadata": {
        "id": "ycj7xSKHs_Xj"
      },
      "execution_count": null,
      "outputs": []
    },
    {
      "cell_type": "markdown",
      "source": [
        "why did you pick the specific chart?\n",
        "\n",
        "answer\n",
        "\n",
        "I picked up the particular heatmap for given below various aspects:\n",
        "\n",
        "in order to clearly have the glimps of bike demand at various hours.\n",
        "\n",
        "in order to draw comparison easily and understand patterns.\n",
        "\n",
        "so as to draw meaningful insights by an eye view\n",
        "\n",
        "to make more understanding of trends.\n",
        "\n",
        "so as to make data more concluded and explicit."
      ],
      "metadata": {
        "id": "2X1b_WuYtWnh"
      }
    },
    {
      "cell_type": "markdown",
      "source": [
        "what are the insights found from the chart?\n",
        "\n",
        "answer\n",
        "\n",
        "no insights are found as there is no correlation among variables."
      ],
      "metadata": {
        "id": "Bq0GDQ6IthRG"
      }
    },
    {
      "cell_type": "markdown",
      "source": [
        "#### Chart - 15 - Pair Plot"
      ],
      "metadata": {
        "id": "q29F0dvdveiT"
      }
    },
    {
      "cell_type": "code",
      "source": [
        "# Pair Plot visualization code\n",
        "\n",
        "sns.pairplot(mydata)"
      ],
      "metadata": {
        "id": "o58-TEIhveiU"
      },
      "execution_count": null,
      "outputs": []
    },
    {
      "cell_type": "markdown",
      "source": [
        "##### 1. Why did you pick the specific chart?"
      ],
      "metadata": {
        "id": "EXh0U9oCveiU"
      }
    },
    {
      "cell_type": "markdown",
      "source": [
        "Answer Here.\n",
        "\n",
        "Answer Here.\n",
        "\n",
        "I picked up the particular pair plot chart for given below various aspects:\n",
        "\n",
        "1.  in order to clearly have the glimps of data.\n",
        "\n",
        "2.  in order to draw comparison easily and understand patterns.\n",
        "\n",
        "3.  so as to draw meaningful insights by an eye view\n",
        "\n",
        "4.  to make more understanding of trends.\n",
        "\n",
        "5.  so as to make data more concluded and explicit."
      ],
      "metadata": {
        "id": "eMmPjTByveiU"
      }
    },
    {
      "cell_type": "markdown",
      "source": [
        "##### 2. What is/are the insight(s) found from the chart?"
      ],
      "metadata": {
        "id": "22aHeOlLveiV"
      }
    },
    {
      "cell_type": "markdown",
      "source": [
        "Answer Here\n",
        "\n",
        "no insights are found"
      ],
      "metadata": {
        "id": "uPQ8RGwHveiV"
      }
    },
    {
      "cell_type": "markdown",
      "source": [
        "## ***6. Feature Engineering & Data Pre-processing***"
      ],
      "metadata": {
        "id": "bVvFsCo7vu6T"
      }
    },
    {
      "cell_type": "markdown",
      "source": [
        "### 1. Handling Missing Values"
      ],
      "metadata": {
        "id": "lZL6wHoEwQx8"
      }
    },
    {
      "cell_type": "code",
      "source": [
        "#handling missing values\n",
        "\n",
        "mydata.dropna(inplace=True)"
      ],
      "metadata": {
        "id": "8FR2PNB-wUD5"
      },
      "execution_count": null,
      "outputs": []
    },
    {
      "cell_type": "markdown",
      "source": [
        "What all missing value imputation techniques have you used and why did you use those techniques?\n",
        "\n",
        "aNSWER\n",
        "\n",
        "i have removed all those rows that contain missing or null values"
      ],
      "metadata": {
        "id": "LJxzD9fmwsT2"
      }
    },
    {
      "cell_type": "code",
      "source": [
        "#distribution of Quantity\n",
        "plt.figure(figsize=(15,10))\n",
        "plt.title('distribution of Quantity')\n",
        "sns.distplot(mydata['Quantity'])"
      ],
      "metadata": {
        "id": "0tyYN2L7x_ky"
      },
      "execution_count": null,
      "outputs": []
    },
    {
      "cell_type": "code",
      "source": [
        "\n",
        "plt.figure(figsize=(15,10))\n",
        "plt.title('log distribution of Quantity')\n",
        "sns.distplot(np.log(mydata['Quantity']))"
      ],
      "metadata": {
        "id": "KTbWteIryfXm"
      },
      "execution_count": null,
      "outputs": []
    },
    {
      "cell_type": "code",
      "source": [
        "mydata['Quantity'].unique()"
      ],
      "metadata": {
        "id": "IXVd7gZ8zCKc"
      },
      "execution_count": null,
      "outputs": []
    },
    {
      "cell_type": "code",
      "source": [
        "mydata[\"InvoiceDate\"] = pd.to_datetime(mydata[\"InvoiceDate\"], format=\"%Y-%m-%d %H:%M:%S\")"
      ],
      "metadata": {
        "id": "2Z0EuiKWzOTy"
      },
      "execution_count": null,
      "outputs": []
    },
    {
      "cell_type": "markdown",
      "source": [],
      "metadata": {
        "id": "c08h8o5Zzbey"
      }
    },
    {
      "cell_type": "code",
      "source": [
        "##create new features from date\n",
        "\n",
        "mydata[\"year\"] = mydata[\"InvoiceDate\"].apply(lambda x: x.year)\n",
        "mydata[\"month_num\"] = mydata[\"InvoiceDate\"].apply(lambda x: x.month)\n",
        "mydata[\"day_num\"] = mydata[\"InvoiceDate\"].apply(lambda x: x.day)"
      ],
      "metadata": {
        "id": "uj8Qb1CZzOQb"
      },
      "execution_count": null,
      "outputs": []
    },
    {
      "cell_type": "code",
      "source": [
        "mydata['TotalAmount']=mydata['Quantity']*mydata['UnitPrice']"
      ],
      "metadata": {
        "id": "oKXgoWLjzOJ6"
      },
      "execution_count": null,
      "outputs": []
    },
    {
      "cell_type": "code",
      "source": [
        "\n",
        "plt.title('distribution of Amount')\n",
        "sns.distplot(mydata['TotalAmount'])"
      ],
      "metadata": {
        "id": "u-kT-Fes2V58"
      },
      "execution_count": null,
      "outputs": []
    },
    {
      "cell_type": "code",
      "source": [
        "#calculating monthy and their count\n",
        "mydata['Month']=mydata['InvoiceDate'].dt.month_name()\n",
        "month_data=mydata['Month'].value_counts().reset_index()\n",
        "month_data.rename(columns={'index': 'Month_Name'}, inplace=True)\n",
        "month_data.rename(columns={'Month': 'Count'}, inplace=True)\n",
        "month_data"
      ],
      "metadata": {
        "id": "_Wgfvvld2V2J"
      },
      "execution_count": null,
      "outputs": []
    },
    {
      "cell_type": "code",
      "source": [
        "mydata.head()"
      ],
      "metadata": {
        "id": "JCLdPTZT2Vyh"
      },
      "execution_count": null,
      "outputs": []
    },
    {
      "cell_type": "code",
      "source": [
        "#month name AND count\n",
        "plt.figure(figsize=(13,8))\n",
        "plt.title('Month')\n",
        "sns.barplot(x='Month_Name',y='Count',data=month_data)"
      ],
      "metadata": {
        "id": "si7086cF2Vu6"
      },
      "execution_count": null,
      "outputs": []
    },
    {
      "cell_type": "code",
      "source": [
        "mydata=mydata[['CustomerID','InvoiceDate','InvoiceNo','Quantity','UnitPrice','TotalAmount']]\n"
      ],
      "metadata": {
        "id": "To4mvDLaRu27"
      },
      "execution_count": null,
      "outputs": []
    },
    {
      "cell_type": "code",
      "source": [
        "mydata.columns\n"
      ],
      "metadata": {
        "id": "V1xYzgE1Ruz2"
      },
      "execution_count": null,
      "outputs": []
    },
    {
      "cell_type": "code",
      "source": [
        "#new features creation\n",
        "mydata_group=mydata.groupby('CustomerID').agg({'InvoiceDate': lambda date: (date.max() - date.min()).days,\n",
        "                                        'InvoiceNo': lambda num: len(num),\n",
        "                                        'Quantity': lambda quant: quant.sum(),\n",
        "                                        'TotalAmount': lambda price: price.sum()})\n"
      ],
      "metadata": {
        "id": "CBrFuIkbUUog"
      },
      "execution_count": null,
      "outputs": []
    },
    {
      "cell_type": "code",
      "source": [
        "mydata_group.head()\n",
        "\n"
      ],
      "metadata": {
        "id": "WJcU9ov5RurA"
      },
      "execution_count": null,
      "outputs": []
    },
    {
      "cell_type": "markdown",
      "source": [
        "CLVT TECHNIQUE:CLVT TECHNIQUE IS USED TO SEGMENT CUSTOMER ON THYE BASIS OF THEIR LIFETIME (EXPECTED)"
      ],
      "metadata": {
        "id": "_VQb0bQP8g0x"
      }
    },
    {
      "cell_type": "code",
      "source": [
        "# Change the name of columns\n",
        "mydata_group.columns=['num_days','num_transactions','num_units','spent_money']\n",
        "mydata_group.head()\n"
      ],
      "metadata": {
        "id": "EQHTDmBiRukB"
      },
      "execution_count": null,
      "outputs": []
    },
    {
      "cell_type": "code",
      "source": [
        " #CLTV = ((Average Order Value x Purchase Frequency)/Churn Rate) x Profit margin.\n",
        "\n",
        " #Customer Value = Average Order Value * Purchase Frequency\n"
      ],
      "metadata": {
        "id": "a8gfMi5HRug1"
      },
      "execution_count": null,
      "outputs": []
    },
    {
      "cell_type": "code",
      "source": [
        "# Average Order Value\n",
        "mydata_group['avg_order_value']=mydata_group['spent_money']/mydata_group['num_transactions']\n"
      ],
      "metadata": {
        "id": "UgKWrDCWRudx"
      },
      "execution_count": null,
      "outputs": []
    },
    {
      "cell_type": "code",
      "source": [
        "mydata_group.head()\n"
      ],
      "metadata": {
        "id": "RAhE-yZJRua6"
      },
      "execution_count": null,
      "outputs": []
    },
    {
      "cell_type": "code",
      "source": [
        "purchase_frequency=sum(mydata_group['num_transactions'])/mydata_group.shape[0]\n"
      ],
      "metadata": {
        "id": "JTB_mdbWRuXn"
      },
      "execution_count": null,
      "outputs": []
    },
    {
      "cell_type": "code",
      "source": [
        "# Repeat Rate\n",
        "repeat_rate=mydata_group[mydata_group.num_transactions > 1].shape[0]/mydata_group.shape[0]\n"
      ],
      "metadata": {
        "id": "vNF3f-oCX0rI"
      },
      "execution_count": null,
      "outputs": []
    },
    {
      "cell_type": "code",
      "source": [
        "#Churn Rate\n",
        "churn_rate=1-repeat_rate\n",
        "\n"
      ],
      "metadata": {
        "id": "pu0323GnRuTz"
      },
      "execution_count": null,
      "outputs": []
    },
    {
      "cell_type": "code",
      "source": [
        "purchase_frequency,repeat_rate,churn_rate\n"
      ],
      "metadata": {
        "id": "XuPe57q6RuQY"
      },
      "execution_count": null,
      "outputs": []
    },
    {
      "cell_type": "code",
      "source": [
        "# Profit Margin\n",
        "mydata_group['profit_margin']=mydata_group['spent_money']*0.05\n"
      ],
      "metadata": {
        "id": "DSdQ0-fIRuNM"
      },
      "execution_count": null,
      "outputs": []
    },
    {
      "cell_type": "code",
      "source": [
        "mydata_group.head()\n"
      ],
      "metadata": {
        "id": "timPA4qARuKP"
      },
      "execution_count": null,
      "outputs": []
    },
    {
      "cell_type": "code",
      "source": [
        "# Customer Value\n",
        "mydata_group['CLV']=(mydata_group['avg_order_value']*purchase_frequency)/churn_rate\n"
      ],
      "metadata": {
        "id": "Z09TrtkfRuGz"
      },
      "execution_count": null,
      "outputs": []
    },
    {
      "cell_type": "code",
      "source": [
        "#Customer Lifetime Value\n",
        "mydata_group['cust_lifetime_value']=mydata_group['CLV']*mydata_group['profit_margin']\n"
      ],
      "metadata": {
        "id": "VGq8VtmOXpS-"
      },
      "execution_count": null,
      "outputs": []
    },
    {
      "cell_type": "code",
      "source": [
        "mydata_group.head()\n"
      ],
      "metadata": {
        "id": "u-zWLjHsXpPK"
      },
      "execution_count": null,
      "outputs": []
    },
    {
      "cell_type": "code",
      "source": [
        "mydata['month_yr'] = mydata['InvoiceDate'].apply(lambda x: x.strftime('%b-%Y'))\n"
      ],
      "metadata": {
        "id": "DlKtBXPvXpFy"
      },
      "execution_count": null,
      "outputs": []
    },
    {
      "cell_type": "code",
      "source": [
        "sale=mydata.pivot_table(index=['CustomerID'],columns=['month_yr'],values='TotalAmount',aggfunc='sum',fill_value=0).reset_index()\n"
      ],
      "metadata": {
        "id": "gPkwHo1iXpCr"
      },
      "execution_count": null,
      "outputs": []
    },
    {
      "cell_type": "code",
      "source": [
        "sale.head()\n"
      ],
      "metadata": {
        "id": "trEqz4pJXo_g"
      },
      "execution_count": null,
      "outputs": []
    },
    {
      "cell_type": "code",
      "source": [
        "sale['CLV']=sale.iloc[:,2:].sum(axis=1)\n"
      ],
      "metadata": {
        "id": "2qpTqI9SXo74"
      },
      "execution_count": null,
      "outputs": []
    },
    {
      "cell_type": "code",
      "source": [
        "sale.head()\n"
      ],
      "metadata": {
        "id": "WcHJ18bEXo3w"
      },
      "execution_count": null,
      "outputs": []
    },
    {
      "cell_type": "code",
      "source": [
        "X=sale[['Dec-2011','Nov-2011', 'Oct-2011','Sep-2011','Aug-2011','Jul-2011']]\n",
        "y=sale[['CLV']]\n"
      ],
      "metadata": {
        "id": "HMTCZyoNZiVv"
      },
      "execution_count": null,
      "outputs": []
    },
    {
      "cell_type": "code",
      "source": [
        "#split training set and test set\n",
        "from sklearn.model_selection import train_test_split\n",
        "X_train, X_test, y_train, y_test = train_test_split(X, y,random_state=0)\n"
      ],
      "metadata": {
        "id": "AgY58N0fZiOZ"
      },
      "execution_count": null,
      "outputs": []
    },
    {
      "cell_type": "code",
      "source": [
        "#Split into four segments using quantiles\n",
        "quantiles = mydata_group.quantile(q=[0.25,0.5,0.75])\n",
        "quantiles = quantiles.to_dict()"
      ],
      "metadata": {
        "id": "p99HejgYZiK9"
      },
      "execution_count": null,
      "outputs": []
    },
    {
      "cell_type": "code",
      "source": [
        "#Functions to create R, F and M segments\n",
        "def RScoring(x,p,d):\n",
        "    if x <= d[p][0.25]:\n",
        "        return 1\n",
        "    elif x <= d[p][0.50]:\n",
        "        return 2\n",
        "    elif x <= d[p][0.75]:\n",
        "        return 3\n",
        "    else:\n",
        "        return 4\n",
        "\n",
        "def FnMScoring(x,p,d):\n",
        "    if x <= d[p][0.25]:\n",
        "        return 4\n",
        "    elif x <= d[p][0.50]:\n",
        "        return 3\n",
        "    elif x <= d[p][0.75]:\n",
        "        return 2\n",
        "    else:\n",
        "        return 1"
      ],
      "metadata": {
        "id": "ya1hAQL_ZiGy"
      },
      "execution_count": null,
      "outputs": []
    },
    {
      "cell_type": "code",
      "source": [
        "#creating cvlt analysis\n",
        "mydata_group['d'] = mydata_group['num_days'].apply(RScoring, args=('num_days',quantiles,))\n",
        "mydata_group['t'] = mydata_group['num_transactions'].apply(FnMScoring, args=('num_transactions',quantiles,))\n",
        "mydata_group['u'] = mydata_group['num_units'].apply(FnMScoring, args=('num_units',quantiles,))\n",
        "mydata_group['m'] = mydata_group['spent_money'].apply(FnMScoring, args=('spent_money',quantiles,))\n",
        "\n",
        "mydata_group.head()"
      ],
      "metadata": {
        "id": "wwLclAHKZiDD"
      },
      "execution_count": null,
      "outputs": []
    },
    {
      "cell_type": "code",
      "source": [
        "def handle_neg_n_zero(num):\n",
        "    if num <= 0:\n",
        "        return 1\n",
        "    else:\n",
        "        return num\n",
        "#Apply handle_neg_n_zero function to Recency and Monetary columns\n",
        "mydata_group['num_days'] = [handle_neg_n_zero(x) for x in mydata_group.num_days]\n",
        "mydata_group['num_transactions'] = [handle_neg_n_zero(x) for x in mydata_group.num_transactions]\n",
        "mydata_group['num_units'] = [handle_neg_n_zero(x) for x in mydata_group.num_units]\n",
        "mydata_group['spent_money'] = [handle_neg_n_zero(x) for x in mydata_group.spent_money]\n",
        "\n",
        "#Perform Log transformation to bring data into normal or near normal distribution\n",
        "Log_Tfd_Data = mydata_group[['num_days','num_transactions','num_units','spent_money']].apply(np.log, axis = 1).round(3)"
      ],
      "metadata": {
        "id": "vzWM38yGZh-3"
      },
      "execution_count": null,
      "outputs": []
    },
    {
      "cell_type": "code",
      "source": [
        "#applying log\n",
        "from sklearn import preprocessing\n",
        "from numpy import math\n",
        "mydata_group['num_days_log'] = mydata_group['num_days'].apply(math.log)\n",
        "mydata_group['num_transactions_log'] = mydata_group['num_transactions'].apply(math.log)\n",
        "mydata_group['num_units_log'] = mydata_group['num_units'].apply(math.log)\n",
        "mydata_group['spent_money_log'] = mydata_group['spent_money'].apply(math.log)"
      ],
      "metadata": {
        "id": "HJ6wYRIfo9fh"
      },
      "execution_count": null,
      "outputs": []
    },
    {
      "cell_type": "code",
      "source": [
        "#fitting features and values\n",
        "from sklearn import preprocessing\n",
        "feature_vector=['num_days_log','num_transactions_log','num_units_log','spent_money_log']\n",
        "X_features=mydata_group[feature_vector].values\n",
        "scaler=preprocessing.StandardScaler()\n",
        "X=scaler.fit_transform(X_features)"
      ],
      "metadata": {
        "id": "sdHL4xtCZh7N"
      },
      "execution_count": null,
      "outputs": []
    },
    {
      "cell_type": "markdown",
      "source": [
        "# K-means clustering"
      ],
      "metadata": {
        "id": "riekSHo8-x2c"
      }
    },
    {
      "cell_type": "code",
      "source": [
        "#importing respective liabraries\n",
        "from sklearn.metrics import silhouette_score\n",
        "from sklearn.datasets import make_blobs\n",
        "from sklearn.cluster import KMeans\n",
        "from sklearn.metrics import silhouette_samples, silhouette_score\n",
        "\n",
        "import matplotlib.pyplot as plt\n",
        "import matplotlib.cm as cm\n",
        "import numpy as np\n",
        "\n",
        "range_n_clusters = [2,3,4,5,6,7,8,9,10,11,12,13,14,15]\n",
        "\n",
        "for n_clusters in range_n_clusters:\n",
        "    # Create a subplot with 1 row and 2 columns\n",
        "    fig, (ax1, ax2) = plt.subplots(1, 2)\n",
        "    fig.set_size_inches(18, 7)\n",
        "\n",
        "    # The 1st subplot is the silhouette plot\n",
        "    # The silhouette coefficient can range from -1, 1 but in this example all\n",
        "    # lie within [-0.1, 1]\n",
        "    ax1.set_xlim([-0.1, 1])\n",
        "    # The (n_clusters+1)*10 is for inserting blank space between silhouette\n",
        "    # plots of individual clusters, to demarcate them clearly.\n",
        "    ax1.set_ylim([0, len(X) + (n_clusters + 1) * 10])\n",
        "\n",
        "    # Initialize the clusterer with n_clusters value and a random generator\n",
        "    # seed of 10 for reproducibility.\n",
        "    clusterer = KMeans(n_clusters=n_clusters, random_state=10)\n",
        "    cluster_labels = clusterer.fit_predict(X)\n",
        "\n",
        "    # The silhouette_score gives the average value for all the samples.\n",
        "    # This gives a perspective into the density and separation of the formed\n",
        "    # clusters\n",
        "    silhouette_avg = silhouette_score(X, cluster_labels)\n",
        "    print(\"For n_clusters =\", n_clusters,\n",
        "          \"The average silhouette_score is :\", silhouette_avg)\n",
        "\n",
        "    # Compute the silhouette scores for each sample\n",
        "    sample_silhouette_values = silhouette_samples(X, cluster_labels)\n",
        "\n",
        "    y_lower = 10\n",
        "    for i in range(n_clusters):\n",
        "        # Aggregate the silhouette scores for samples belonging to\n",
        "        # cluster i, and sort them\n",
        "        ith_cluster_silhouette_values = \\\n",
        "            sample_silhouette_values[cluster_labels == i]\n",
        "\n",
        "        ith_cluster_silhouette_values.sort()\n",
        "\n",
        "        size_cluster_i = ith_cluster_silhouette_values.shape[0]\n",
        "        y_upper = y_lower + size_cluster_i\n",
        "\n",
        "        color = cm.nipy_spectral(float(i) / n_clusters)\n",
        "        ax1.fill_betweenx(np.arange(y_lower, y_upper),\n",
        "                          0, ith_cluster_silhouette_values,\n",
        "                          facecolor=color, edgecolor=color, alpha=0.7)\n",
        "\n",
        "        # Label the silhouette plots with their cluster numbers at the middle\n",
        "        ax1.text(-0.05, y_lower + 0.5 * size_cluster_i, str(i))\n",
        "\n",
        "\n",
        "        # Compute the new y_lower for next plot\n",
        "        y_lower = y_upper + 10  # 10 for the 0 samples\n",
        "\n",
        "    ax1.set_title(\"The silhouette plot for the various clusters.\")\n",
        "    ax1.set_xlabel(\"The silhouette coefficient values\")\n",
        "    ax1.set_ylabel(\"Cluster label\")\n",
        "\n",
        "    # The vertical line for average silhouette score of all the values\n",
        "    ax1.axvline(x=silhouette_avg, color=\"red\", linestyle=\"--\")\n",
        "\n",
        "    ax1.set_yticks([])  # Clear the yaxis labels / ticks\n",
        "    ax1.set_xticks([-0.1, 0, 0.2, 0.4, 0.6, 0.8, 1])\n",
        "\n",
        "    # 2nd Plot showing the actual clusters formed\n",
        "    colors = cm.nipy_spectral(cluster_labels.astype(float) /n_clusters)\n",
        "    ax2.scatter(X[:, 0], X[:, 1], marker='.', s=30, lw=0, alpha=0.7,\n",
        "                c=colors, edgecolor='k')\n",
        "\n",
        "    # Labeling the clusters\n",
        "    centers = clusterer.cluster_centers_\n",
        "    # Draw white circles at cluster centers\n",
        "    ax2.scatter(centers[:, 0], centers[:, 1], marker='o',\n",
        "                c=\"white\", alpha=1, s=200, edgecolor='k')\n",
        "\n",
        "    for i, c in enumerate(centers):\n",
        "        ax2.scatter(c[0], c[1], marker='$%d$' % i, alpha=1,\n",
        "                    s=50, edgecolor='k')\n",
        "\n",
        "    ax2.set_title(\"The visualization of the clustered data.\")\n",
        "    ax2.set_xlabel(\"Feature space for the 1st feature\")\n",
        "    ax2.set_ylabel(\"Feature space for the 2nd feature\")\n",
        "    plt.suptitle((\"Silhouette analysis for KMeans clustering on sample data \"\n",
        "                  \"with n_clusters = %d\" % n_clusters),\n",
        "                 fontsize=14, fontweight='bold')\n",
        "\n",
        "plt.show()\n"
      ],
      "metadata": {
        "id": "0wkET5sCj32w"
      },
      "execution_count": null,
      "outputs": []
    },
    {
      "cell_type": "code",
      "source": [
        "from sklearn.cluster import KMeans\n",
        "\n",
        "sum_of_sq_dist = {}\n",
        "for k in range(1,15):\n",
        "    km = KMeans(n_clusters= k, init= 'k-means++', max_iter= 1000)\n",
        "    km = km.fit(X)\n",
        "    sum_of_sq_dist[k] = km.inertia_\n",
        "\n",
        "#Plot the graph for the sum of square distance values and Number of Clusters\n",
        "sns.pointplot(x = list(sum_of_sq_dist.keys()), y = list(sum_of_sq_dist.values()))\n",
        "plt.xlabel('Number of Clusters(k)')\n",
        "plt.ylabel('Sum of Square Distances')\n",
        "plt.title('Elbow Method For Optimal k')\n",
        "plt.show()"
      ],
      "metadata": {
        "id": "5wWJLrajZhzm"
      },
      "execution_count": null,
      "outputs": []
    },
    {
      "cell_type": "code",
      "source": [
        "\n",
        "#Perform K-Mean Clustering or build the K-Means clustering model\n",
        "KMean_clust = KMeans(n_clusters= 2, init= 'k-means++', max_iter= 1000)\n",
        "KMean_clust.fit(X)\n",
        "\n",
        "#Find the clusters for the observation given in the dataset\n",
        "mydata_group['Cluster'] = KMean_clust.labels_\n",
        "mydata_group.head(10)"
      ],
      "metadata": {
        "id": "-zi7eaO2ZhwL"
      },
      "execution_count": null,
      "outputs": []
    },
    {
      "cell_type": "code",
      "source": [
        "# Using the dendogram to find the optimal number of clusters\n",
        "import scipy.cluster.hierarchy as sch\n",
        "plt.figure(figsize=(13,8))\n",
        "dendrogram = sch.dendrogram(sch.linkage(X, method = 'ward'))\n",
        "plt.title('Dendrogram')\n",
        "plt.xlabel('Customers')\n",
        "plt.ylabel('Euclidean Distances')\n",
        "plt.show() # find largest vertical distance we can make without crossing any other horizontal line"
      ],
      "metadata": {
        "id": "iFXI6qczZhsV"
      },
      "execution_count": null,
      "outputs": []
    },
    {
      "cell_type": "code",
      "source": [
        "#importing and fitting two clusters in it\n",
        "from sklearn.cluster import AgglomerativeClustering\n",
        "hc = AgglomerativeClustering(n_clusters = 2, affinity = 'euclidean', linkage = 'ward')\n",
        "y_hc = hc.fit_predict(X)"
      ],
      "metadata": {
        "id": "OwBl8r5KZhoa"
      },
      "execution_count": null,
      "outputs": []
    },
    {
      "cell_type": "code",
      "source": [
        "# Visualizing the clusters (two dimensions only)\n",
        "plt.figure(figsize=(13,8))\n",
        "plt.scatter(X[y_hc == 0, 0], X[y_hc == 0, 1], s = 100, c = 'red', label = 'Customer 1')\n",
        "plt.scatter(X[y_hc == 1, 0], X[y_hc == 1, 1], s = 100, c = 'blue', label = 'Customer 2')\n",
        "#plt.scatter(X[y_hc == 2, 0], X[y_hc == 2, 1], s = 100, c = 'green', label = 'Target')\n",
        "\n",
        "plt.title('Clusters of Customer')\n",
        "plt.xlabel('cvlt')\n",
        "\n",
        "plt.ylabel('Spending Score (1-100)')\n",
        "plt.legend()\n",
        "plt.show()"
      ],
      "metadata": {
        "id": "FY_ahvD5Zhjz"
      },
      "execution_count": null,
      "outputs": []
    },
    {
      "cell_type": "markdown",
      "source": [
        "# ***Hierarchial clustering**"
      ],
      "metadata": {
        "id": "YS--tDDN8-S_"
      }
    },
    {
      "cell_type": "code",
      "source": [
        "#importing liababries and fitting the dataset\n",
        "from sklearn.preprocessing import StandardScaler\n",
        "\n",
        "data_scaler = StandardScaler()\n",
        "\n",
        "scaled_data = data_scaler.fit_transform(mydata_group)\n",
        "scaled_data.shape"
      ],
      "metadata": {
        "id": "lN2TZKzTZhfo"
      },
      "execution_count": null,
      "outputs": []
    },
    {
      "cell_type": "code",
      "source": [
        "#complete,averagge and single clustering cp=ode\n",
        "from scipy.cluster.hierarchy import linkage, dendrogram\n",
        "\n",
        "complete_clustering = linkage(scaled_data, method=\"complete\", metric=\"euclidean\")\n",
        "average_clustering = linkage(scaled_data, method=\"average\", metric=\"euclidean\")\n",
        "single_clustering = linkage(scaled_data, method=\"single\", metric=\"euclidean\")"
      ],
      "metadata": {
        "id": "p0-fFGTCXozy"
      },
      "execution_count": null,
      "outputs": []
    },
    {
      "cell_type": "code",
      "source": [
        "#complete clustering\n",
        "dendrogram(complete_clustering)\n",
        "plt.show()"
      ],
      "metadata": {
        "id": "7TJgQQxPLybi"
      },
      "execution_count": null,
      "outputs": []
    },
    {
      "cell_type": "code",
      "source": [
        "#average clustering\n",
        "dendrogram(average_clustering)\n",
        "plt.show()"
      ],
      "metadata": {
        "id": "eWfQcopqLx9f"
      },
      "execution_count": null,
      "outputs": []
    },
    {
      "cell_type": "code",
      "source": [
        "#single clustering\n",
        "dendrogram(single_clustering)\n",
        "plt.show()"
      ],
      "metadata": {
        "id": "Hkw6NCkILx4v"
      },
      "execution_count": null,
      "outputs": []
    },
    {
      "cell_type": "code",
      "source": [
        "# FORMING two cluster on the basais of money spent by them\n",
        "from scipy.cluster.hierarchy import cut_tree\n",
        "cluster_labels = cut_tree(average_clustering, n_clusters=2).reshape(-1, )\n",
        "mydata_group[\"Cluster\"] = cluster_labels\n",
        "\n",
        "sns.boxplot(x='Cluster', y='spent_money', data=mydata_group)"
      ],
      "metadata": {
        "id": "gRHQ3ggkLx0b"
      },
      "execution_count": null,
      "outputs": []
    },
    {
      "cell_type": "markdown",
      "source": [
        "## **5. Solution to Business Objective**"
      ],
      "metadata": {
        "id": "JcMwzZxoAimU"
      }
    },
    {
      "cell_type": "markdown",
      "source": [
        "#### What do you suggest the client to achieve Business Objective ?\n",
        "Explain Briefly."
      ],
      "metadata": {
        "id": "8G2x9gOozGDZ"
      }
    },
    {
      "cell_type": "markdown",
      "source": [
        "Answer Here.\n",
        "\n",
        "In order to achieve the business objective,i would suggest the client:\n",
        "\n",
        "1.on the basis of k means clustering:\n",
        "\n",
        "\n",
        ".That as our customers are segmented into two clusters on the basis of clvt value:\n",
        "  :we should keep more focus on high lifetime expected customers as they would contribute more to the growth .\n",
        "\n",
        "\n",
        "\n",
        "  :we should try to manipulate and give reasons to low lifetime expected customers so as to retain them .\n",
        "\n",
        "\n",
        "  :we should strike a balance between both the clusters\n",
        "\n",
        "\n",
        "  :more and more betternment of services should be done for high value customers\n",
        "\n",
        "\n",
        "2.on the basis of hierarchial clustering\n",
        "\n",
        ".our customers are segmented into two clusters in hierarchial clustering also\n",
        "  :we should keep more focus on high spending customers\n",
        "\n",
        "  \n",
        "  :we should prioritise hi9gh value customers\n",
        "\n"
      ],
      "metadata": {
        "id": "pASKb0qOza21"
      }
    },
    {
      "cell_type": "markdown",
      "source": [
        "# **Conclusion**"
      ],
      "metadata": {
        "id": "gCX9965dhzqZ"
      }
    },
    {
      "cell_type": "markdown",
      "source": [
        "Write the conclusion here.\n",
        "\n",
        "From the above project,my conclusions are as follows:\n",
        "\n",
        ":on the basis of customer expected lifetime value,we have 2 clusters,whereby we should focus on and in:\n",
        "\n",
        ".high expected lifetime value as these customers are gtoing to contribute more to the growth and solvency of business.\n",
        "\n",
        ": we can seee that blue scattered points are less in number ,so we shoul fovcus more on few customers of high value\n",
        "\n",
        ":on the basis of money spent we have 2 clusters in which also:\n",
        "\n",
        "\n",
        ".we should focus on high spending customers\n",
        "\n",
        "\n",
        "there are only few customers in class 0 which means that only few customers are going to be regular anmd high spending customers.\n",
        "\n"
      ],
      "metadata": {
        "id": "Fjb1IsQkh3yE"
      }
    },
    {
      "cell_type": "markdown",
      "source": [
        "### ***Hurrah! You have successfully completed your EDA Capstone Project !!!***"
      ],
      "metadata": {
        "id": "gIfDvo9L0UH2"
      }
    }
  ]
}